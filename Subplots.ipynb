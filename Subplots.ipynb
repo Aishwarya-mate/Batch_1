{
 "cells": [
  {
   "cell_type": "markdown",
   "metadata": {},
   "source": [
    "# SUBPLOTS\n",
    "- Subplots mean groups of axes that can exist in a single matplotlib figure. subplots() function in the matplotlib library, helps in creating multiple layouts of subplots. It provides control over all the individual plots that are created.\n",
    "\n",
    "- When analyzing data you might want to compare multiple plots placed side-by-side. Matplotlib provides a convenient method called subplots to do this.\n",
    "\n",
    "- Subplots mean a group of smaller axes (where each axis is a plot) that can exist together within a single figure. Think of a figure as a canvas that holds multiple plots."
   ]
  },
  {
   "cell_type": "code",
   "execution_count": null,
   "metadata": {},
   "outputs": [],
   "source": [
    "import matplotlib.pyplot as plt\n",
    "import pandas as pd\n",
    "import numpy as np\n",
    "import seaborn as sns\n",
    "%matplotlib inline"
   ]
  },
  {
   "cell_type": "code",
   "execution_count": null,
   "metadata": {},
   "outputs": [],
   "source": [
    "fig,ax = plt.subplots()"
   ]
  },
  {
   "cell_type": "markdown",
   "metadata": {},
   "source": [
    "- fig : Creates a canvas for plotting.\n",
    "- ax : Decides axes for plots."
   ]
  },
  {
   "cell_type": "code",
   "execution_count": null,
   "metadata": {},
   "outputs": [],
   "source": [
    "# fig = plt.figure() # create the canvas for plotting\n",
    "# ax1 = plt.subplot(2,1,1) \n",
    "# # (2,1,1) indicates total number of rows, columns, and figure number respectively\n",
    "# ax2 = plt.subplot(2,1,2)"
   ]
  },
  {
   "cell_type": "code",
   "execution_count": null,
   "metadata": {},
   "outputs": [],
   "source": [
    "fig,ax = plt.subplots(1,2)\n",
    "fig.suptitle('1 row * 2 columns graphs')"
   ]
  },
  {
   "cell_type": "markdown",
   "metadata": {},
   "source": [
    "- fig parameter provides us to decide how many various graphs we can have\n",
    "- axes parameter provides us with feature with which we can access each ax separately"
   ]
  },
  {
   "cell_type": "code",
   "execution_count": null,
   "metadata": {},
   "outputs": [],
   "source": [
    "x = [1,2,3,4,5]\n",
    "y = [5,6,5,8,9]\n",
    "\n",
    "fig,axes = plt.subplots(2,2,figsize = (7,7))\n",
    "axes[0,0].plot(x,y)\n",
    "axes[0,1].scatter(x,y)\n",
    "axes[1,0].scatter(x,y)\n",
    "axes[1,1].plot(x,y)\n",
    "axes[0,0].set_title(\"First\")\n",
    "axes[0,1].set_title(\"Second\")\n",
    "axes[1,0].set_title(\"Third\")\n",
    "axes[1,1].set_title(\"Fourth\")"
   ]
  },
  {
   "cell_type": "code",
   "execution_count": null,
   "metadata": {},
   "outputs": [],
   "source": [
    "df = pd.read_csv('Automobile_data.csv')\n",
    "df.head()"
   ]
  },
  {
   "cell_type": "code",
   "execution_count": null,
   "metadata": {},
   "outputs": [],
   "source": [
    "df.info()"
   ]
  },
  {
   "cell_type": "code",
   "execution_count": null,
   "metadata": {},
   "outputs": [],
   "source": [
    "fig, axes = plt.subplots(2,2, figsize =(15,5))\n",
    "sns.countplot(df['fuel-type'],ax = axes[0,0])\n",
    "sns.scatterplot(data=df,x = 'city-mpg',y='highway-mpg',ax=axes[0,1])\n",
    "sns.distplot(df['compression-ratio'],ax = axes[1,0])\n",
    "sns.boxenplot(df['width'],ax = axes[1,1])"
   ]
  },
  {
   "cell_type": "code",
   "execution_count": null,
   "metadata": {},
   "outputs": [],
   "source": []
  }
 ],
 "metadata": {
  "kernelspec": {
   "display_name": "Python 3 (ipykernel)",
   "language": "python",
   "name": "python3"
  },
  "language_info": {
   "codemirror_mode": {
    "name": "ipython",
    "version": 3
   },
   "file_extension": ".py",
   "mimetype": "text/x-python",
   "name": "python",
   "nbconvert_exporter": "python",
   "pygments_lexer": "ipython3",
   "version": "3.9.13"
  }
 },
 "nbformat": 4,
 "nbformat_minor": 4
}
